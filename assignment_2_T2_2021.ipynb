{
 "cells": [
  {
   "cell_type": "markdown",
   "metadata": {
    "id": "wjif_5FsdOFz"
   },
   "source": [
    "# SIT744 Assignment 2: Transfer learning and Efficient Training of Deep Learning Models \n",
    "\n",
    "<div class=\"alert-info\">\n",
    "    <p>Due: <strong>8:00pm 20 September 2021</strong>  (Monday)</p>\n",
    "\n",
    "This is an <strong>individual</strong> assignment. It contributes <strong>45%</strong> to your final mark. Read the assignment instruction carefully.\n",
    "\n",
    "<h2> What to submit </h2>\n",
    "\n",
    "<p>\n",
    "This assignment is to be completed individually and submitted to CloudDeakin. <strong>By the due date, you are required to submit the following files to the corresponding Assignment (Dropbox) in CloudDeakin</strong>:\n",
    "\n",
    "<ol>\n",
    "<li>\t<strong>[YourID]_assignment2_solution.ipynp</strong>:  This is your Python notebook solution source file. </li>\n",
    "<li>\t<strong>[YourID]_assingment2_output.html</strong>: This is the output of your Python notebook solution <emph>exported</emph> in HTML format.</li>\n",
    "<li>\tExtra files needed to complete your assignment, if any (e.g., images used in your answers).</li>\n",
    "</ol>\n",
    "</p>\n",
    "\n",
    "<p>\n",
    "For example, if your student ID is: 123456, you will then need to submit the following files:\n",
    "<ul>\n",
    "<li> 123456_assignment2_solution.ipynp </li>\n",
    "<li> 123456_assignment2_output.html</li>\n",
    "</ul>\n",
    "</p>\n",
    "\n",
    "<h2> Warning </h2>\n",
    "\n",
    "Some components of this assignment may involve heavy computation that runs for a long duration. Please start early to avoid missing the assignment due date.\n",
    "\n",
    "<h2> Marking criteria </h2>\n",
    "\n",
    "<p>\n",
    "Your submission will be marked using the following criteria.\n",
    "\n",
    "<ul>\n",
    "<li> Showing good effort through completed tasks.</li>\n",
    "<li> Applying deep learning theory to design suitable deep learning solutions for the tasks.</li>\n",
    "<li> Critically evaluating and reflecting on the pros and cons of various design decisions.</li>\n",
    "<li> Demonstrating creativity and resourcefulness in providing unique individual solutions.</li>\n",
    "<li> Showing attention to details through a good quality assignment report.</li>\n",
    "</ul>\n",
    "</p>\n",
    "\n",
    "<p>\n",
    "Indicative weights of various tasks are provided, but the assignment will be marked by the overall quality per the above criteria.\n",
    "</p>\n",
    "</div>"
   ]
  },
  {
   "cell_type": "markdown",
   "metadata": {
    "id": "twFQbltnm8da"
   },
   "source": [
    "## Assignment objective\n",
    "\n",
    "This assignment is to feedback on your learning in deep learning theory and its application to  data analytics or artificial intelligence problems.  \n",
    "\n",
    "It builds on Assignment 1 but requires a higher level of mastery of deep learning theory and programming/engineering skills. In particular, you will experience training a much deeper network on a large-scale dataset. You will encounter  practical issues that help you consolidate textbook learning. "
   ]
  },
  {
   "cell_type": "markdown",
   "metadata": {
    "id": "3ITc1hw_o7qV"
   },
   "source": [
    "## Task 1 Solving MNIST with Convolutional Neural Networks\n",
    "\n",
    "*(weight ~15%)*\n",
    "\n",
    "In Assignment 1, you tackled the image classification problem in MNIST. There, you used a Densely Connected Neural Network. You should now know that is not an optimal model architecture for the problem. In Assignment 2, you will apply the best practices of deep-learning computer vision to achieve better image classification performance."
   ]
  },
  {
   "cell_type": "markdown",
   "metadata": {
    "id": "zdHwmgwOpEfx"
   },
   "source": [
    "### Task 1.1 Revisit MNIST classification with DNN\n",
    "\n",
    "*(weight ~1%)*\n",
    "\n",
    "Review your Assignment 1 solution, and reproduce the experiment here. Try to improve the model without changing the model architecture.\n"
   ]
  },
  {
   "cell_type": "markdown",
   "metadata": {
    "id": "cfTL_5kPsl4j"
   },
   "source": [
    "### Task 1.2 Train a ConvNet from scratch\n",
    "\n",
    "*(weight ~5%)*\n",
    "\n",
    "Build a ConvNet to replace the densely connected network in Task 1.1. Report the classification accuracy on the test set. Aim to achieve higher accuracy. \n",
    "\n"
   ]
  },
  {
   "cell_type": "markdown",
   "metadata": {
    "id": "qbhr44DnMbKZ"
   },
   "source": [
    "\n",
    "### Task 1.3 Build an input pipeline for data augmentation\n",
    "\n",
    "*(weight ~3%)*\n",
    "\n",
    "Build a data preprocessing pipeline to perform data augmentation. (You may use Keras ImageDataGenerator or write your own transformations.)\n",
    "\n",
    "- Report the new classification accuracy. Make sure that you use the same number of training epochs as in Task 1.2.\n",
    "\n",
    "- (Optional) Profile your input pipeline to identify the most time-consuming operation. What actions have you taken to address that slow operation? (*Hint: You may use the [TensorFlow Profiler](https://github.com/tensorflow/profiler).*)"
   ]
  },
  {
   "cell_type": "markdown",
   "metadata": {
    "id": "prctXU4BswKK"
   },
   "source": [
    "### Task 1.4 MNIST with transfer learning\n",
    "\n",
    "*(weight ~3%)*\n",
    "\n",
    "Use a pretrained model as the convolutional base to improve the classification performance. (Hint: You may use models in Keras Applications or those in the TensorFlow Hub.)\n",
    "\n",
    "- Try both with fine-tuning and without fine-tuning.\n",
    "- Report the model performance as before.\n",
    "\n"
   ]
  },
  {
   "cell_type": "markdown",
   "metadata": {
    "id": "UaHLKDLas_dF"
   },
   "source": [
    "### Task 1.5 Performance comparison\n",
    "\n",
    "*(weight ~3%)*\n",
    "\n",
    "How many parameters are trainable in each of the two settings (with and without fine-tuning)? How does the difference impact the training time?\n",
    "\n",
    "\n",
    "Which setting achieved higher accuracy? Why did it work better for this problem? \n",
    "\n",
    "Have we benefitted from using the pretrained model?\n"
   ]
  },
  {
   "cell_type": "markdown",
   "metadata": {
    "id": "ouK5NY-_pLDK"
   },
   "source": [
    "## Task 2 Fast training of deep networks\n",
    "\n",
    "*(weight ~20%)*"
   ]
  },
  {
   "cell_type": "markdown",
   "metadata": {
    "id": "LgoOE2W1pdfN"
   },
   "source": [
    "### Task 2.1 Train a highly accurate network for CIFAR10\n",
    "\n",
    "*(weight ~7%)*\n",
    "\n",
    "In this task, you will train deep neural networks on the [CIFAR10 dataset](https://www.cs.toronto.edu/~kriz/cifar.html). Compared with the datasets that you have worked on so far, CIFAR10 represents a relatively larger multi-class classification problem and presents a great opportunity for you to solve a \"harder\" problem.\n",
    "\n"
   ]
  },
  {
   "cell_type": "markdown",
   "metadata": {
    "id": "IaD5oqj3lhuI"
   },
   "source": [
    "#### Task 2.1.1 Document the hardware used\n",
    "\n",
    "Before you start, write down your hardware specifications, including \n",
    "\n",
    "- the GPU model, the number of GPUs, and the GPU memory\n",
    "- the CPU model, the number of CPUs, and the CPU clock speed\n",
    "\n",
    "(Hint: you may find commands like `nvidia-smi`, `lscpu` or `psutil` useful.)"
   ]
  },
  {
   "cell_type": "markdown",
   "metadata": {
    "id": "adN9Tq-6lyG-"
   },
   "source": [
    "#### Task 2.1.2 Train a \"shallow\" ConvNet\n",
    "\n",
    "Build a ConvNet with fewer than 10 layers. Train the network until it converges. You will use this network as a baseline for the later experiments. \n",
    "\n",
    "- Plot the training and validation history. \n",
    "- Report the testing accuracy. "
   ]
  },
  {
   "cell_type": "markdown",
   "metadata": {
    "id": "9NTjVIUkmv7S"
   },
   "source": [
    "#### Task 2.1.3 Train a ResNet\n",
    "\n",
    "Train a residual neural network (ResNet) on the CIFAR10 training data and report the test accuracy and the training time.\n",
    "\n",
    "The ResNet is a popular network architecture for image classification. You may find more information about how ResNet works by reading this [paper](https://arxiv.org/abs/1512.03385).\n",
    "\n",
    "\n",
    "*(You may implement a resnet model or use an existing implementation. In either case, you should not use pretrained network weights.)*"
   ]
  },
  {
   "cell_type": "markdown",
   "metadata": {
    "id": "AH6ZBiECzS75"
   },
   "source": [
    "### Task 2.2 Fast training of ResNet\n",
    "\n",
    "*(weight ~10%)*\n",
    "\n",
    "In this task, you will experiment with different ways to reduce the time for training your ResNet on CIFAR10. There are different ways to speed up neural network training; below are two ideas. Please select at least one idea to implement. Explain the experiment steps and report the final performance and training time.\n",
    "\n",
    "#### Option 1. Learning rate schedule\n",
    "\n",
    "Use a learning rate schedule for the training. Some popular learning rate schedules include \n",
    "\n",
    "- the Step Decay learning rate (e.g., see [here](https://github.com/kuangliu/pytorch-cifar))\n",
    "- [Cyclical learning rates](https://arxiv.org/abs/1506.01186)\n",
    "- [The exponential learning rate](https://openreview.net/forum?id=rJg8TeSFDH) \n",
    "\n",
    "Also, Keras provides [some convenient functions](https://www.tensorflow.org/api_docs/python/tf/keras/optimizers/schedules) that you can use.\n",
    "\n",
    "\n",
    "#### Option 2. Look ahead optimiser\n",
    "\n",
    "Read [this paper](https://arxiv.org/abs/1907.08610) and implement the Lookahead optimiser."
   ]
  },
  {
   "cell_type": "markdown",
   "metadata": {
    "id": "C8cKfAOjpn7c"
   },
   "source": [
    "### Task 2.3 Performance comparison\n",
    "\n",
    "*(weight ~3%)*\n",
    "\n",
    "Based on the above experiments, which method or which combination of methods result in the best accuracy with the same training time."
   ]
  },
  {
   "cell_type": "markdown",
   "metadata": {
    "id": "eWQm8ZfBxDH9"
   },
   "source": [
    "## Task 3 (**HD level task**) Research on new models\n",
    "*(weight ~10%)*\n",
    "\n",
    "Today, ResNet has become a very mature ConvNet architecture. In this task, you will research one recent ConvNet architecture. You may choose an architecture from the reference list below.\n",
    "\n",
    "Write a short report for your research, covering these points:\n",
    "\n",
    "- Identify the main issues that your chosen architecture aims to address. (For example, does it try to reduce the number of parameters or to speed up the training?)\n",
    "- What measures the architecture used to reduce the number of parameters, or reducing the training cost, or improving the model performance?\n",
    "\n",
    "Implement the architecture and compare its performance on CIFAR10 with ResNet. You may include your implementation, experiments, and analyses here in this notebook.\n",
    "\n",
    "**References**:\n",
    "\n",
    "1. Huang G, Liu Z, Van Der Maaten L, Weinberger KQ. *Densely connected convolutional networks*. In Proceedings of the IEEE conference on computer vision and pattern recognition 2017 (pp. 4700-4708).\n",
    "2. Zhang X, Zhou X, Lin M, Sun J. *Shufflenet: An extremely efficient convolutional neural network for mobile devices*. In Proceedings of the IEEE conference on computer vision and pattern recognition 2018 (pp. 6848-6856).\n",
    "3. Tan M, Le Q. *Efficientnet: Rethinking model scaling for convolutional neural networks*. In International Conference on Machine Learning 2019 May 24 (pp. 6105-6114). PMLR.\n",
    "4. Hu J, Shen L, Sun G. *Squeeze-and-excitation networks*. In Proceedings of the IEEE conference on computer vision and pattern recognition 2018 (pp. 7132-7141).\n"
   ]
  },
  {
   "cell_type": "markdown",
   "metadata": {
    "id": "hUV0wuZ01DNA"
   },
   "source": [
    "---\n",
    "**END OF ASSIGNMENT TWO**"
   ]
  }
 ],
 "metadata": {
  "accelerator": "GPU",
  "colab": {
   "collapsed_sections": [
    "twFQbltnm8da",
    "zdHwmgwOpEfx",
    "cfTL_5kPsl4j",
    "prctXU4BswKK",
    "UaHLKDLas_dF",
    "IaD5oqj3lhuI",
    "adN9Tq-6lyG-",
    "9NTjVIUkmv7S",
    "AH6ZBiECzS75",
    "C8cKfAOjpn7c"
   ],
   "machine_shape": "hm",
   "name": "assignment_2_T2_2021.ipynb",
   "provenance": []
  },
  "kernelspec": {
   "display_name": "Python 3",
   "language": "python",
   "name": "python3"
  },
  "language_info": {
   "codemirror_mode": {
    "name": "ipython",
    "version": 3
   },
   "file_extension": ".py",
   "mimetype": "text/x-python",
   "name": "python",
   "nbconvert_exporter": "python",
   "pygments_lexer": "ipython3",
   "version": "3.7.10"
  }
 },
 "nbformat": 4,
 "nbformat_minor": 1
}
